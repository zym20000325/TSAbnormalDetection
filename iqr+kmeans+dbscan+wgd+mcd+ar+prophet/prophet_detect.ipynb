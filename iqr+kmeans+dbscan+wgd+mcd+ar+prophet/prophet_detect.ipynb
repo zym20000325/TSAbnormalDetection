{
 "cells": [
  {
   "cell_type": "code",
   "execution_count": 1,
   "metadata": {},
   "outputs": [],
   "source": [
    "\"\"\" \n",
    "@author: zym\n",
    "\n",
    "\"\"\"\n",
    "import numpy as np\n",
    "import pandas as pd\n",
    "from fbprophet import Prophet"
   ]
  },
  {
   "cell_type": "code",
   "execution_count": 42,
   "metadata": {},
   "outputs": [],
   "source": [
    "def outlier_detect(forecast,n):\n",
    "    \n",
    "    ystd = np.std(forecast[\"y\"])\n",
    "    index = np.where((forecast[\"y\"] <= forecast[\"yhat_lower\"]-n*ystd)|\n",
    "                     (forecast[\"y\"] >= forecast[\"yhat_upper\"]+n*ystd),True,False)\n",
    "    \n",
    "    return index\n",
    "\n",
    "\n",
    "def Prophet_detect(data,alpha,n):\n",
    "    \n",
    "    data = data.rename(columns={'timestamp':'ds','value':'y'})  # 须将列名改成ds和y才能使用fbfrophet\n",
    "    \n",
    "    model = Prophet(yearly_seasonality=True,weekly_seasonality=True,interval_width = alpha)  \n",
    "    model = model.fit(data)     \n",
    "    forecast = model.predict(data)  # 使用模型对数据进行预测\n",
    "    forecast[\"y\"] = data[\"y\"].reset_index(drop = True)\n",
    "    \n",
    "    outlier_index = outlier_detect(forecast,n)\n",
    "    outlier_df = data[outlier_index]\n",
    "    print(\"异常值的数量为:\",np.sum(outlier_index))\n",
    "    return(outlier_df[\"ds\"])"
   ]
  },
  {
   "cell_type": "code",
   "execution_count": 44,
   "metadata": {},
   "outputs": [
    {
     "name": "stdout",
     "output_type": "stream",
     "text": [
      "异常值的数量为: 1\n",
      "3547    2014-02-26 22:05:00\n",
      "Name: ds, dtype: object\n"
     ]
    }
   ],
   "source": [
    "####### cpu\n",
    "data = pd.read_csv(\"data/ec2_cpu_utilization_24ae8d.csv\")\n",
    "abnormals = Prophet_detect(data,0.95,15)\n",
    "print(abnormals)\n",
    "# model = Prophet(changepoint_prior_scale=0.2, seasonality_prior_scale=5, interval_width = alpha) "
   ]
  },
  {
   "cell_type": "code",
   "execution_count": 45,
   "metadata": {},
   "outputs": [
    {
     "name": "stdout",
     "output_type": "stream",
     "text": [
      "异常值的数量为: 4\n",
      "1597    2014-02-20 03:35:00\n",
      "1883    2014-02-21 03:25:00\n",
      "3547    2014-02-26 22:05:00\n",
      "3898    2014-02-28 03:20:00\n",
      "Name: ds, dtype: object\n"
     ]
    }
   ],
   "source": [
    "data = pd.read_csv(\"data/ec2_cpu_utilization_24ae8d.csv\")\n",
    "abnormals = Prophet_detect(data,0.95,13)\n",
    "print(abnormals)"
   ]
  },
  {
   "cell_type": "code",
   "execution_count": 46,
   "metadata": {},
   "outputs": [
    {
     "name": "stdout",
     "output_type": "stream",
     "text": [
      "异常值的数量为: 8\n",
      "439     2014-02-16 03:05:00\n",
      "1018    2014-02-18 03:20:00\n",
      "1597    2014-02-20 03:35:00\n",
      "1883    2014-02-21 03:25:00\n",
      "3321    2014-02-26 03:15:00\n",
      "3547    2014-02-26 22:05:00\n",
      "3614    2014-02-27 03:40:00\n",
      "3898    2014-02-28 03:20:00\n",
      "Name: ds, dtype: object\n"
     ]
    }
   ],
   "source": [
    "data = pd.read_csv(\"data/ec2_cpu_utilization_24ae8d.csv\")\n",
    "abnormals = Prophet_detect(data,0.97,12)\n",
    "print(abnormals)"
   ]
  },
  {
   "cell_type": "code",
   "execution_count": 38,
   "metadata": {},
   "outputs": [
    {
     "name": "stdout",
     "output_type": "stream",
     "text": [
      "异常值的数量为: 7\n",
      "367     2011-07-16 09:15:01\n",
      "372     2011-07-16 14:15:01\n",
      "514     2011-07-22 12:15:01\n",
      "518     2011-07-22 16:15:01\n",
      "1276    2011-08-23 08:15:01\n",
      "1401    2011-08-28 13:15:01\n",
      "1565    2011-09-04 09:15:01\n",
      "Name: ds, dtype: object\n"
     ]
    }
   ],
   "source": [
    "####### cpc\n",
    "data = pd.read_csv(\"data/exchange-4_cpc_results.csv\")\n",
    "abnormals = Prophet_detect(data,0.95,5)\n",
    "print(abnormals)"
   ]
  },
  {
   "cell_type": "code",
   "execution_count": 24,
   "metadata": {},
   "outputs": [
    {
     "name": "stdout",
     "output_type": "stream",
     "text": [
      "异常值的数量为: 3\n",
      "367     2011-07-16 09:15:01\n",
      "1276    2011-08-23 08:15:01\n",
      "1401    2011-08-28 13:15:01\n",
      "Name: ds, dtype: object\n"
     ]
    }
   ],
   "source": [
    "data = pd.read_csv(\"data/exchange-4_cpc_results.csv\")\n",
    "abnormals = Prophet_detect(data,0.95,10)\n",
    "print(abnormals)\n",
    "# model = Prophet(changepoint_prior_scale=0.2, seasonality_prior_scale=5,yearly_seasonality=True, interval_width = alpha)  "
   ]
  },
  {
   "cell_type": "code",
   "execution_count": 29,
   "metadata": {},
   "outputs": [
    {
     "name": "stdout",
     "output_type": "stream",
     "text": [
      "异常值的数量为: 4\n",
      "2149    2015-09-16 08:09:00\n",
      "2151    2015-09-16 08:19:00\n",
      "2397    2015-09-17 07:55:00\n",
      "2398    2015-09-17 08:00:00\n",
      "Name: ds, dtype: object\n"
     ]
    }
   ],
   "source": [
    "####### occupancy\n",
    "data = pd.read_csv(\"data/occupancy_t4013.csv\")\n",
    "abnormals = Prophet_detect(data,0.95,4)\n",
    "print(abnormals)\n",
    "# model = Prophet(changepoint_prior_scale=0.2,seasonality_prior_scale=5,yearly_seasonality=True,interval_width = alpha) "
   ]
  },
  {
   "cell_type": "code",
   "execution_count": 32,
   "metadata": {},
   "outputs": [
    {
     "name": "stdout",
     "output_type": "stream",
     "text": [
      "异常值的数量为: 7\n",
      "989     2015-08-18 16:26:00\n",
      "2039    2015-09-10 23:13:00\n",
      "2040    2015-09-10 23:18:00\n",
      "2041    2015-09-11 00:13:00\n",
      "2042    2015-09-11 00:25:00\n",
      "2132    2015-09-12 02:42:00\n",
      "2133    2015-09-12 02:53:00\n",
      "Name: ds, dtype: object\n"
     ]
    }
   ],
   "source": [
    "####### travel\n",
    "data = pd.read_csv(\"data/TravelTime_387.csv\")\n",
    "abnormals = Prophet_detect(data,0.90,6)\n",
    "print(abnormals)\n",
    "# model = Prophet(yearly_seasonality=True,interval_width = alpha)  "
   ]
  },
  {
   "cell_type": "code",
   "execution_count": 37,
   "metadata": {},
   "outputs": [
    {
     "name": "stdout",
     "output_type": "stream",
     "text": [
      "异常值的数量为: 7\n",
      "1993     2015-03-05 19:47:53\n",
      "2008     2015-03-05 21:02:53\n",
      "2009     2015-03-05 21:07:53\n",
      "3735     2015-03-11 20:57:53\n",
      "6367     2015-03-21 00:17:53\n",
      "11070    2015-04-06 08:12:53\n",
      "11071    2015-04-06 08:17:53\n",
      "Name: ds, dtype: object\n"
     ]
    }
   ],
   "source": [
    "##### twitter\n",
    "data = pd.read_csv(\"data/Twitter_volume_AMZN.csv\")\n",
    "abnormals = Prophet_detect(data,0.95,9)\n",
    "print(abnormals)"
   ]
  }
 ],
 "metadata": {
  "kernelspec": {
   "display_name": "Python 3",
   "language": "python",
   "name": "python3"
  },
  "language_info": {
   "codemirror_mode": {
    "name": "ipython",
    "version": 3
   },
   "file_extension": ".py",
   "mimetype": "text/x-python",
   "name": "python",
   "nbconvert_exporter": "python",
   "pygments_lexer": "ipython3",
   "version": "3.8.3"
  }
 },
 "nbformat": 4,
 "nbformat_minor": 4
}

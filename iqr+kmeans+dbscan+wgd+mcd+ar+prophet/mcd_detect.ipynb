{
 "cells": [
  {
   "cell_type": "code",
   "execution_count": 1,
   "metadata": {},
   "outputs": [],
   "source": [
    "\"\"\" \n",
    "@author: zym\n",
    "\n",
    "\"\"\"\n",
    "import numpy as np\n",
    "import pandas as pd\n",
    "from pyod.models.mcd import MCD"
   ]
  },
  {
   "cell_type": "code",
   "execution_count": 22,
   "metadata": {},
   "outputs": [],
   "source": [
    "def MCD_detect(data,abnormal_num):\n",
    "    \n",
    "    data1 = list(data.value)\n",
    "    data1 = np.array(data1)\n",
    "    data1 = data1.reshape(-1,1)\n",
    "    \n",
    "    c=abnormal_num/len(data1)\n",
    "    \n",
    "    # 训练 MCD 检测器\n",
    "    clf_name = 'MCD'\n",
    "    clf = MCD(assume_centered=True,random_state=17,contamination=c)\n",
    "    clf.fit(data1)\n",
    "    \n",
    "    # 获得训练集的预测标签和异常分数\n",
    "    y_train_pred = clf.labels_  # (0为正常 1为异常)\n",
    "    y_train_scores = clf.decision_scores_\n",
    "    \n",
    "    abnormal_loc=[]\n",
    "    abnormal_loc.clear()\n",
    "    for i in range(len(y_train_pred)):\n",
    "        if(y_train_pred[i]==1):\n",
    "            abnormal_loc.append(i)\n",
    "    \n",
    "    \n",
    "    print(data.timestamp[abnormal_loc])  \n",
    "    print(\"\\n\")"
   ]
  },
  {
   "cell_type": "code",
   "execution_count": 23,
   "metadata": {},
   "outputs": [
    {
     "name": "stdout",
     "output_type": "stream",
     "text": [
      "3547    2014-02-26 22:05:00\n",
      "Name: timestamp, dtype: object\n",
      "\n",
      "\n",
      "151     2014-02-15 03:05:00\n",
      "439     2014-02-16 03:05:00\n",
      "729     2014-02-17 03:15:00\n",
      "1018    2014-02-18 03:20:00\n",
      "1309    2014-02-19 03:35:00\n",
      "1597    2014-02-20 03:35:00\n",
      "1883    2014-02-21 03:25:00\n",
      "2172    2014-02-22 03:30:00\n",
      "2461    2014-02-23 03:35:00\n",
      "2748    2014-02-24 03:30:00\n",
      "3032    2014-02-25 03:10:00\n",
      "3321    2014-02-26 03:15:00\n",
      "3547    2014-02-26 22:05:00\n",
      "3614    2014-02-27 03:40:00\n",
      "3777    2014-02-27 17:15:00\n",
      "3898    2014-02-28 03:20:00\n",
      "Name: timestamp, dtype: object\n",
      "\n",
      "\n"
     ]
    }
   ],
   "source": [
    "# cpu\n",
    "data = pd.read_csv(\"data/ec2_cpu_utilization_24ae8d.csv\")\n",
    "MCD_detect(data,2)\n",
    "MCD_detect(data,16)"
   ]
  },
  {
   "cell_type": "code",
   "execution_count": 35,
   "metadata": {},
   "outputs": [
    {
     "name": "stdout",
     "output_type": "stream",
     "text": [
      "367     2011-07-16 09:15:01\n",
      "1276    2011-08-23 08:15:01\n",
      "1401    2011-08-28 13:15:01\n",
      "Name: timestamp, dtype: object\n",
      "\n",
      "\n",
      "367     2011-07-16 09:15:01\n",
      "372     2011-07-16 14:15:01\n",
      "514     2011-07-22 12:15:01\n",
      "518     2011-07-22 16:15:01\n",
      "776     2011-08-02 12:15:01\n",
      "787     2011-08-02 23:15:01\n",
      "826     2011-08-04 14:15:01\n",
      "1229    2011-08-21 09:15:01\n",
      "1276    2011-08-23 08:15:01\n",
      "1293    2011-08-24 01:15:01\n",
      "1371    2011-08-27 07:15:01\n",
      "1375    2011-08-27 11:15:01\n",
      "1401    2011-08-28 13:15:01\n",
      "1422    2011-08-29 10:15:01\n",
      "1444    2011-08-30 08:15:01\n",
      "1480    2011-08-31 20:15:01\n",
      "1481    2011-08-31 21:15:01\n",
      "1482    2011-08-31 22:15:01\n",
      "1504    2011-09-01 20:15:01\n",
      "1565    2011-09-04 09:15:01\n",
      "Name: timestamp, dtype: object\n",
      "\n",
      "\n"
     ]
    }
   ],
   "source": [
    "# cpc\n",
    "data = pd.read_csv(\"data/exchange-4_cpc_results.csv\")\n",
    "MCD_detect(data,3)\n",
    "MCD_detect(data,20)"
   ]
  },
  {
   "cell_type": "code",
   "execution_count": 37,
   "metadata": {},
   "outputs": [
    {
     "name": "stdout",
     "output_type": "stream",
     "text": [
      "2149    2015-09-16 08:09:00\n",
      "2397    2015-09-17 07:55:00\n",
      "Name: timestamp, dtype: object\n",
      "\n",
      "\n"
     ]
    }
   ],
   "source": [
    "# occupancy\n",
    "data = pd.read_csv(\"data/occupancy_t4013.csv\")\n",
    "MCD_detect(data,2)"
   ]
  },
  {
   "cell_type": "code",
   "execution_count": 44,
   "metadata": {},
   "outputs": [
    {
     "name": "stdout",
     "output_type": "stream",
     "text": [
      "989     2015-08-18 16:26:00\n",
      "2041    2015-09-11 00:13:00\n",
      "Name: timestamp, dtype: object\n",
      "\n",
      "\n",
      "269     2015-07-23 03:55:00\n",
      "270     2015-07-23 04:15:00\n",
      "271     2015-07-23 04:24:00\n",
      "333     2015-07-25 05:39:00\n",
      "334     2015-07-25 05:59:00\n",
      "335     2015-07-25 06:03:00\n",
      "989     2015-08-18 16:26:00\n",
      "1543    2015-09-01 08:46:00\n",
      "1603    2015-09-01 21:22:00\n",
      "1604    2015-09-01 21:32:00\n",
      "2039    2015-09-10 23:13:00\n",
      "2040    2015-09-10 23:18:00\n",
      "2041    2015-09-11 00:13:00\n",
      "2042    2015-09-11 00:25:00\n",
      "2128    2015-09-12 01:42:00\n",
      "2129    2015-09-12 01:52:00\n",
      "2130    2015-09-12 02:12:00\n",
      "2131    2015-09-12 02:20:00\n",
      "2132    2015-09-12 02:42:00\n",
      "2133    2015-09-12 02:53:00\n",
      "Name: timestamp, dtype: object\n",
      "\n",
      "\n"
     ]
    }
   ],
   "source": [
    "# travel\n",
    "data = pd.read_csv(\"data/TravelTime_387.csv\")\n",
    "MCD_detect(data,2)\n",
    "MCD_detect(data,20)"
   ]
  },
  {
   "cell_type": "code",
   "execution_count": 57,
   "metadata": {},
   "outputs": [
    {
     "name": "stdout",
     "output_type": "stream",
     "text": [
      "1993    2015-03-05 19:47:53\n",
      "2008    2015-03-05 21:02:53\n",
      "3735    2015-03-11 20:57:53\n",
      "Name: timestamp, dtype: object\n",
      "\n",
      "\n",
      "1993     2015-03-05 19:47:53\n",
      "2008     2015-03-05 21:02:53\n",
      "2009     2015-03-05 21:07:53\n",
      "3158     2015-03-09 20:52:53\n",
      "3159     2015-03-09 20:57:53\n",
      "3160     2015-03-09 21:02:53\n",
      "3735     2015-03-11 20:57:53\n",
      "3736     2015-03-11 21:02:53\n",
      "6367     2015-03-21 00:17:53\n",
      "6657     2015-03-22 00:27:53\n",
      "7527     2015-03-25 00:57:53\n",
      "8021     2015-03-26 18:07:53\n",
      "9753     2015-04-01 18:27:53\n",
      "9795     2015-04-01 21:57:53\n",
      "11070    2015-04-06 08:12:53\n",
      "11071    2015-04-06 08:17:53\n",
      "11546    2015-04-07 23:52:53\n",
      "11885    2015-04-09 04:07:53\n",
      "Name: timestamp, dtype: object\n",
      "\n",
      "\n",
      "720      2015-03-01 09:42:53\n",
      "1385     2015-03-03 17:07:53\n",
      "1388     2015-03-03 17:22:53\n",
      "1725     2015-03-04 21:27:53\n",
      "1976     2015-03-05 18:22:53\n",
      "1993     2015-03-05 19:47:53\n",
      "2008     2015-03-05 21:02:53\n",
      "2009     2015-03-05 21:07:53\n",
      "3158     2015-03-09 20:52:53\n",
      "3159     2015-03-09 20:57:53\n",
      "3160     2015-03-09 21:02:53\n",
      "3735     2015-03-11 20:57:53\n",
      "3736     2015-03-11 21:02:53\n",
      "6367     2015-03-21 00:17:53\n",
      "6657     2015-03-22 00:27:53\n",
      "7527     2015-03-25 00:57:53\n",
      "8021     2015-03-26 18:07:53\n",
      "9184     2015-03-30 19:02:53\n",
      "9753     2015-04-01 18:27:53\n",
      "9795     2015-04-01 21:57:53\n",
      "10874    2015-04-05 15:52:53\n",
      "10875    2015-04-05 15:57:53\n",
      "11070    2015-04-06 08:12:53\n",
      "11071    2015-04-06 08:17:53\n",
      "11546    2015-04-07 23:52:53\n",
      "11547    2015-04-07 23:57:53\n",
      "11591    2015-04-08 03:37:53\n",
      "11595    2015-04-08 03:57:53\n",
      "11700    2015-04-08 12:42:53\n",
      "11841    2015-04-09 00:27:53\n",
      "11885    2015-04-09 04:07:53\n",
      "12061    2015-04-09 18:47:53\n",
      "12417    2015-04-11 00:27:53\n",
      "13445    2015-04-14 14:07:53\n",
      "15489    2015-04-21 16:27:53\n",
      "Name: timestamp, dtype: object\n",
      "\n",
      "\n"
     ]
    }
   ],
   "source": [
    "# twitter\n",
    "data = pd.read_csv(\"data/Twitter_volume_AMZN.csv\")\n",
    "MCD_detect(data,3)\n",
    "MCD_detect(data,18)\n",
    "MCD_detect(data,35)"
   ]
  }
 ],
 "metadata": {
  "kernelspec": {
   "display_name": "Python 3",
   "language": "python",
   "name": "python3"
  },
  "language_info": {
   "codemirror_mode": {
    "name": "ipython",
    "version": 3
   },
   "file_extension": ".py",
   "mimetype": "text/x-python",
   "name": "python",
   "nbconvert_exporter": "python",
   "pygments_lexer": "ipython3",
   "version": "3.8.3"
  }
 },
 "nbformat": 4,
 "nbformat_minor": 4
}

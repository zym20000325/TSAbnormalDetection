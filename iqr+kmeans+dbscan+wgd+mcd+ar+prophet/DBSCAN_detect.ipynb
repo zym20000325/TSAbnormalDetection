{
 "cells": [
  {
   "cell_type": "code",
   "execution_count": 1,
   "metadata": {},
   "outputs": [],
   "source": [
    "\"\"\" \n",
    "@author: zym\n",
    "\n",
    "\"\"\"\n",
    "import numpy as np  \n",
    "import pandas as pd\n",
    "from sklearn.cluster import DBSCAN\n",
    "from sklearn import metrics  "
   ]
  },
  {
   "cell_type": "code",
   "execution_count": 13,
   "metadata": {},
   "outputs": [],
   "source": [
    "def dbscan_detect(data,eps0,min_sample0):\n",
    "    \n",
    "    data1 = list(data.value)\n",
    "    data1 = np.array(data1)\n",
    "    data1 = data1.reshape(-1,1)\n",
    "    \n",
    "    db = DBSCAN(eps=eps0, min_samples=min_sample0).fit(data1)\n",
    "    \n",
    "    labels = db.labels_\n",
    "    \n",
    "    n_clusters_ = len(set(labels)) - (1 if -1 in labels else 0)  # 计算簇的数目\n",
    "    print('簇的数目: '+str(n_clusters_))\n",
    "    \n",
    "    abnormal_num = len(labels[labels[:] == -1])  #计算异常点个数\n",
    "    print('异常点个数: '+str(abnormal_num))\n",
    "    \n",
    "    abnormal = []\n",
    "    for i in range(len(labels)):\n",
    "        if(labels[i]==-1):\n",
    "            abnormal.append(i)\n",
    "    \n",
    "    print(data.timestamp[abnormal])   "
   ]
  },
  {
   "cell_type": "code",
   "execution_count": 26,
   "metadata": {},
   "outputs": [
    {
     "name": "stdout",
     "output_type": "stream",
     "text": [
      "簇的数目: 2\n",
      "异常点个数: 2\n",
      "3547    2014-02-26 22:05:00\n",
      "3777    2014-02-27 17:15:00\n",
      "Name: timestamp, dtype: object\n"
     ]
    }
   ],
   "source": [
    "# cpu\n",
    "data = pd.read_csv(\"data/ec2_cpu_utilization_24ae8d.csv\")\n",
    "dbscan_detect(data,0.1,2)  # 第二个参数是eps 第三个参数是 min_samples"
   ]
  },
  {
   "cell_type": "code",
   "execution_count": 25,
   "metadata": {},
   "outputs": [
    {
     "name": "stdout",
     "output_type": "stream",
     "text": [
      "簇的数目: 4\n",
      "异常点个数: 4\n",
      "367     2011-07-16 09:15:01\n",
      "372     2011-07-16 14:15:01\n",
      "1276    2011-08-23 08:15:01\n",
      "1401    2011-08-28 13:15:01\n",
      "Name: timestamp, dtype: object\n",
      "簇的数目: 2\n",
      "异常点个数: 8\n",
      "367     2011-07-16 09:15:01\n",
      "372     2011-07-16 14:15:01\n",
      "1276    2011-08-23 08:15:01\n",
      "1293    2011-08-24 01:15:01\n",
      "1375    2011-08-27 11:15:01\n",
      "1401    2011-08-28 13:15:01\n",
      "1422    2011-08-29 10:15:01\n",
      "1481    2011-08-31 21:15:01\n",
      "Name: timestamp, dtype: object\n"
     ]
    }
   ],
   "source": [
    "# cpc\n",
    "data = pd.read_csv(\"data/exchange-4_cpc_results.csv\")\n",
    "dbscan_detect(data,0.1,2) \n",
    "data = pd.read_csv(\"data/exchange-4_cpc_results.csv\")\n",
    "dbscan_detect(data,0.1,3)  "
   ]
  },
  {
   "cell_type": "code",
   "execution_count": 38,
   "metadata": {},
   "outputs": [
    {
     "name": "stdout",
     "output_type": "stream",
     "text": [
      "簇的数目: 1\n",
      "异常点个数: 4\n",
      "2149    2015-09-16 08:09:00\n",
      "2151    2015-09-16 08:19:00\n",
      "2397    2015-09-17 07:55:00\n",
      "2398    2015-09-17 08:00:00\n",
      "Name: timestamp, dtype: object\n"
     ]
    }
   ],
   "source": [
    "# occupancy\n",
    "data = pd.read_csv(\"data/occupancy_t4013.csv\")\n",
    "dbscan_detect(data,5,10)  "
   ]
  },
  {
   "cell_type": "code",
   "execution_count": 51,
   "metadata": {},
   "outputs": [
    {
     "name": "stdout",
     "output_type": "stream",
     "text": [
      "簇的数目: 2\n",
      "异常点个数: 7\n",
      "989     2015-08-18 16:26:00\n",
      "2039    2015-09-10 23:13:00\n",
      "2040    2015-09-10 23:18:00\n",
      "2041    2015-09-11 00:13:00\n",
      "2042    2015-09-11 00:25:00\n",
      "2132    2015-09-12 02:42:00\n",
      "2133    2015-09-12 02:53:00\n",
      "Name: timestamp, dtype: object\n"
     ]
    }
   ],
   "source": [
    "# travel\n",
    "data = pd.read_csv(\"data/TravelTime_387.csv\")\n",
    "dbscan_detect(data,200,5)  "
   ]
  },
  {
   "cell_type": "code",
   "execution_count": 57,
   "metadata": {},
   "outputs": [
    {
     "name": "stdout",
     "output_type": "stream",
     "text": [
      "簇的数目: 1\n",
      "异常点个数: 3\n",
      "1993    2015-03-05 19:47:53\n",
      "2008    2015-03-05 21:02:53\n",
      "3735    2015-03-11 20:57:53\n",
      "Name: timestamp, dtype: object\n",
      "簇的数目: 1\n",
      "异常点个数: 7\n",
      "1993     2015-03-05 19:47:53\n",
      "2008     2015-03-05 21:02:53\n",
      "2009     2015-03-05 21:07:53\n",
      "3735     2015-03-11 20:57:53\n",
      "6367     2015-03-21 00:17:53\n",
      "11070    2015-04-06 08:12:53\n",
      "11071    2015-04-06 08:17:53\n",
      "Name: timestamp, dtype: object\n"
     ]
    }
   ],
   "source": [
    "# twitter\n",
    "data = pd.read_csv(\"data/Twitter_volume_AMZN.csv\")\n",
    "dbscan_detect(data,100,4)  \n",
    "data = pd.read_csv(\"data/Twitter_volume_AMZN.csv\")\n",
    "dbscan_detect(data,30,4)  "
   ]
  }
 ],
 "metadata": {
  "kernelspec": {
   "display_name": "Python 3",
   "language": "python",
   "name": "python3"
  },
  "language_info": {
   "codemirror_mode": {
    "name": "ipython",
    "version": 3
   },
   "file_extension": ".py",
   "mimetype": "text/x-python",
   "name": "python",
   "nbconvert_exporter": "python",
   "pygments_lexer": "ipython3",
   "version": "3.8.3"
  }
 },
 "nbformat": 4,
 "nbformat_minor": 4
}

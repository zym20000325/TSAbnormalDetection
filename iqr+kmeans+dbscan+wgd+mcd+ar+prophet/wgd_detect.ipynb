{
 "cells": [
  {
   "cell_type": "code",
   "execution_count": 29,
   "metadata": {},
   "outputs": [],
   "source": [
    "\"\"\" \n",
    "@author: zym\n",
    "\n",
    "\"\"\"\n",
    "import numpy as np\n",
    "import pandas as pd\n",
    "import heapq"
   ]
  },
  {
   "cell_type": "code",
   "execution_count": 30,
   "metadata": {},
   "outputs": [],
   "source": [
    "def WGD_detect(data,m,n):\n",
    "    \n",
    "    data1 = list(data.value)\n",
    "    data1 = np.array(data1)\n",
    "    \n",
    "    abnormal_value = []\n",
    "    abnormal_value.clear\n",
    "    for i in range(m):\n",
    "        abnormal_value.append(-100)  # 将前m个值的异常程度设为-100\n",
    "\n",
    "    for t in range(m,len(data1)):\n",
    "\n",
    "        xt=data1[t]    \n",
    "        window_data = data1[t-m:t]\n",
    "        u = np.mean(window_data)  # 计算长度为m的时间窗内数据的均值和标准差\n",
    "        sigma = np.std(window_data)\n",
    "        ab = (xt-u)/sigma          # 计算每个点的异常程度 存储于abnormal_value\n",
    "        abnormal_value.append(ab)\n",
    "    \n",
    "    max_number = heapq.nlargest(n,abnormal_value)    # 找到异常程度最大的n个点的位置\n",
    "    abnormal_value1 = abnormal_value[:]\n",
    "    max_index = []\n",
    "    for t in max_number:\n",
    "        index = abnormal_value1.index(t)\n",
    "        max_index.append(index)\n",
    "        abnormal_value1[index] = 0\n",
    "    \n",
    "    max_index.sort()\n",
    "    print(data.timestamp[max_index])\n",
    "    print(\"\\n\")"
   ]
  },
  {
   "cell_type": "code",
   "execution_count": 33,
   "metadata": {},
   "outputs": [
    {
     "name": "stdout",
     "output_type": "stream",
     "text": [
      "3032    2014-02-25 03:10:00\n",
      "3547    2014-02-26 22:05:00\n",
      "Name: timestamp, dtype: object\n",
      "\n",
      "\n",
      "151     2014-02-15 03:05:00\n",
      "439     2014-02-16 03:05:00\n",
      "1018    2014-02-18 03:20:00\n",
      "2172    2014-02-22 03:30:00\n",
      "2748    2014-02-24 03:30:00\n",
      "3032    2014-02-25 03:10:00\n",
      "3547    2014-02-26 22:05:00\n",
      "3898    2014-02-28 03:20:00\n",
      "Name: timestamp, dtype: object\n",
      "\n",
      "\n",
      "3547    2014-02-26 22:05:00\n",
      "3898    2014-02-28 03:20:00\n",
      "Name: timestamp, dtype: object\n",
      "\n",
      "\n"
     ]
    }
   ],
   "source": [
    "# cpu\n",
    "data = pd.read_csv(\"data/ec2_cpu_utilization_24ae8d.csv\")\n",
    "WGD_detect(data,35,2)\n",
    "WGD_detect(data,35,8)\n",
    "WGD_detect(data,100,2)"
   ]
  },
  {
   "cell_type": "code",
   "execution_count": 39,
   "metadata": {},
   "outputs": [
    {
     "name": "stdout",
     "output_type": "stream",
     "text": [
      "367     2011-07-16 09:15:01\n",
      "514     2011-07-22 12:15:01\n",
      "1276    2011-08-23 08:15:01\n",
      "Name: timestamp, dtype: object\n",
      "\n",
      "\n",
      "102     2011-07-05 06:15:01\n",
      "367     2011-07-16 09:15:01\n",
      "514     2011-07-22 12:15:01\n",
      "1276    2011-08-23 08:15:01\n",
      "1375    2011-08-27 11:15:01\n",
      "1401    2011-08-28 13:15:01\n",
      "1481    2011-08-31 21:15:01\n",
      "1565    2011-09-04 09:15:01\n",
      "Name: timestamp, dtype: object\n",
      "\n",
      "\n"
     ]
    }
   ],
   "source": [
    "# cpc\n",
    "data = pd.read_csv(\"data/exchange-4_cpc_results.csv\")\n",
    "WGD_detect(data,30,3)\n",
    "WGD_detect(data,30,8)"
   ]
  },
  {
   "cell_type": "code",
   "execution_count": 49,
   "metadata": {},
   "outputs": [
    {
     "name": "stdout",
     "output_type": "stream",
     "text": [
      "753     2015-09-09 07:34:00\n",
      "1474    2015-09-13 07:31:00\n",
      "2147    2015-09-16 07:59:00\n",
      "2149    2015-09-16 08:09:00\n",
      "2397    2015-09-17 07:55:00\n",
      "Name: timestamp, dtype: object\n",
      "\n",
      "\n"
     ]
    }
   ],
   "source": [
    "# occupancy\n",
    "data = pd.read_csv(\"data/occupancy_t4013.csv\")\n",
    "WGD_detect(data,30,5)"
   ]
  },
  {
   "cell_type": "code",
   "execution_count": 55,
   "metadata": {},
   "outputs": [
    {
     "name": "stdout",
     "output_type": "stream",
     "text": [
      "428     2015-07-30 12:29:00\n",
      "989     2015-08-18 16:26:00\n",
      "2128    2015-09-12 01:42:00\n",
      "2304    2015-09-15 11:06:00\n",
      "Name: timestamp, dtype: object\n",
      "\n",
      "\n"
     ]
    }
   ],
   "source": [
    "# travel\n",
    "data = pd.read_csv(\"data/TravelTime_387.csv\")\n",
    "WGD_detect(data,30,4)"
   ]
  },
  {
   "cell_type": "code",
   "execution_count": 61,
   "metadata": {},
   "outputs": [
    {
     "name": "stdout",
     "output_type": "stream",
     "text": [
      "1993     2015-03-05 19:47:53\n",
      "3158     2015-03-09 20:52:53\n",
      "3735     2015-03-11 20:57:53\n",
      "6367     2015-03-21 00:17:53\n",
      "6657     2015-03-22 00:27:53\n",
      "7527     2015-03-25 00:57:53\n",
      "8021     2015-03-26 18:07:53\n",
      "11070    2015-04-06 08:12:53\n",
      "Name: timestamp, dtype: object\n",
      "\n",
      "\n"
     ]
    }
   ],
   "source": [
    "# twitter\n",
    "data = pd.read_csv(\"data/Twitter_volume_AMZN.csv\")\n",
    "WGD_detect(data,100,8)"
   ]
  }
 ],
 "metadata": {
  "kernelspec": {
   "display_name": "Python 3",
   "language": "python",
   "name": "python3"
  },
  "language_info": {
   "codemirror_mode": {
    "name": "ipython",
    "version": 3
   },
   "file_extension": ".py",
   "mimetype": "text/x-python",
   "name": "python",
   "nbconvert_exporter": "python",
   "pygments_lexer": "ipython3",
   "version": "3.8.3"
  }
 },
 "nbformat": 4,
 "nbformat_minor": 4
}
